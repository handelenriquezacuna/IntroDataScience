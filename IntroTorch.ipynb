{
  "nbformat": 4,
  "nbformat_minor": 0,
  "metadata": {
    "colab": {
      "provenance": [],
      "authorship_tag": "ABX9TyMPGOfIr23cHVwtB+LlC8G1",
      "include_colab_link": true
    },
    "kernelspec": {
      "name": "python3",
      "display_name": "Python 3"
    },
    "language_info": {
      "name": "python"
    }
  },
  "cells": [
    {
      "cell_type": "markdown",
      "metadata": {
        "id": "view-in-github",
        "colab_type": "text"
      },
      "source": [
        "<a href=\"https://colab.research.google.com/github/handelenriquezacuna/IntroDataScience/blob/main/IntroTorch.ipynb\" target=\"_parent\"><img src=\"https://colab.research.google.com/assets/colab-badge.svg\" alt=\"Open In Colab\"/></a>"
      ]
    },
    {
      "cell_type": "code",
      "execution_count": null,
      "metadata": {
        "colab": {
          "base_uri": "https://localhost:8080/"
        },
        "id": "JQ6M9wILd9mY",
        "outputId": "90c5d315-0263-48a7-cdda-ce7743314266"
      },
      "outputs": [
        {
          "output_type": "execute_result",
          "data": {
            "text/plain": [
              "2"
            ]
          },
          "metadata": {},
          "execution_count": 1
        }
      ],
      "source": [
        "1+1"
      ]
    },
    {
      "cell_type": "code",
      "source": [
        "import numpy as np\n",
        "import torch"
      ],
      "metadata": {
        "id": "J_FLtr3Ul8H6"
      },
      "execution_count": null,
      "outputs": []
    },
    {
      "cell_type": "code",
      "source": [
        "# Lista de python convertida a tensor\n",
        "x = torch.tensor([1,2,3,4,5])\n",
        "print(x)\n"
      ],
      "metadata": {
        "colab": {
          "base_uri": "https://localhost:8080/"
        },
        "id": "LkwWwOKneavo",
        "outputId": "e1169170-c781-4d23-c92a-c99c7ea21892"
      },
      "execution_count": null,
      "outputs": [
        {
          "output_type": "stream",
          "name": "stdout",
          "text": [
            "tensor([1, 2, 3, 4, 5])\n"
          ]
        }
      ]
    },
    {
      "cell_type": "code",
      "source": [
        "# Vector de rango de numeros\n",
        "vectorIncrimental = torch.arange(0,5,0.1)\n",
        "print(vectorIncrimental)"
      ],
      "metadata": {
        "colab": {
          "base_uri": "https://localhost:8080/"
        },
        "id": "pI3Z0u15oFLD",
        "outputId": "92908f53-a99e-4905-9783-a33f65531b28"
      },
      "execution_count": null,
      "outputs": [
        {
          "output_type": "stream",
          "name": "stdout",
          "text": [
            "tensor([0.0000, 0.1000, 0.2000, 0.3000, 0.4000, 0.5000, 0.6000, 0.7000, 0.8000,\n",
            "        0.9000, 1.0000, 1.1000, 1.2000, 1.3000, 1.4000, 1.5000, 1.6000, 1.7000,\n",
            "        1.8000, 1.9000, 2.0000, 2.1000, 2.2000, 2.3000, 2.4000, 2.5000, 2.6000,\n",
            "        2.7000, 2.8000, 2.9000, 3.0000, 3.1000, 3.2000, 3.3000, 3.4000, 3.5000,\n",
            "        3.6000, 3.7000, 3.8000, 3.9000, 4.0000, 4.1000, 4.2000, 4.3000, 4.4000,\n",
            "        4.5000, 4.6000, 4.7000, 4.8000, 4.9000])\n"
          ]
        }
      ]
    },
    {
      "cell_type": "code",
      "source": [
        "print(\"Tamaño Vector\", vectorIncrimental.shape)"
      ],
      "metadata": {
        "colab": {
          "base_uri": "https://localhost:8080/"
        },
        "id": "pporC2RdpNbI",
        "outputId": "84f778eb-d038-461e-b660-ec0b11f558e6"
      },
      "execution_count": null,
      "outputs": [
        {
          "output_type": "stream",
          "name": "stdout",
          "text": [
            "Tamaño Vector torch.Size([50])\n"
          ]
        }
      ]
    },
    {
      "cell_type": "code",
      "source": [
        "# Operaciones con vectores\n",
        "escalar = 10\n",
        "vector = torch.tensor([1,2,3,4,5])\n",
        "print(f\"Valor escalar es {escalar} y el valor del vector es {vector}\")\n",
        "print(\"Resultado de la operacion de multiplicar es: \", escalar*vector)"
      ],
      "metadata": {
        "colab": {
          "base_uri": "https://localhost:8080/"
        },
        "id": "VG9WfogXpWY0",
        "outputId": "3937e53b-ed6b-4e4a-8c80-2f587d47a5e1"
      },
      "execution_count": null,
      "outputs": [
        {
          "output_type": "stream",
          "name": "stdout",
          "text": [
            "Valor escalar es 10 y el valor del vector es tensor([1, 2, 3, 4, 5])\n",
            "Resultado de la operacion de multiplicar es:  tensor([10, 20, 30, 40, 50])\n"
          ]
        }
      ]
    },
    {
      "cell_type": "code",
      "source": [
        "# Suma de vectores\n",
        "vector1 = torch.tensor([1,2,3,4,5])\n",
        "vector2 = torch.tensor([10,9,8,7,6])\n",
        "\n",
        "print(\"Vector 1: \", vector1)\n",
        "print(\"Vector 2: \", vector2)\n",
        "print(\"Resultado de la suma de vectores es: \", vector1+vector2)\n",
        "\n",
        "# Resta de vectores\n",
        "print(\"Resultado de la resta de vectores es: \", vector1-vector2)"
      ],
      "metadata": {
        "colab": {
          "base_uri": "https://localhost:8080/"
        },
        "id": "zTQLFPiWrI5Z",
        "outputId": "6ce7682e-ddf3-4194-c621-f653072bc868"
      },
      "execution_count": null,
      "outputs": [
        {
          "output_type": "stream",
          "name": "stdout",
          "text": [
            "Vector 1:  tensor([1, 2, 3, 4, 5])\n",
            "Vector 2:  tensor([10,  9,  8,  7,  6])\n",
            "Resultado de la suma de vectores es:  tensor([11, 11, 11, 11, 11])\n",
            "Resultado de la resta de vectores es:  tensor([-9, -7, -5, -3, -1])\n"
          ]
        }
      ]
    },
    {
      "cell_type": "code",
      "source": [
        "# Suma Torch add\n",
        "sumTorch = torch.add(vector1, vector2)\n",
        "print(\"Resultado de la suma de vectores con torch.add es: \", sumTorch)\n",
        "# Resta Torch sub\n",
        "subTorch = torch.sub(vector1, vector2)\n",
        "print(\"Resultado de la resta de vectores con torch.sub es: \", subTorch)"
      ],
      "metadata": {
        "colab": {
          "base_uri": "https://localhost:8080/"
        },
        "id": "2-CU4yUnr7SH",
        "outputId": "7da5823c-ab1a-4594-d311-3423e33a77ae"
      },
      "execution_count": null,
      "outputs": [
        {
          "output_type": "stream",
          "name": "stdout",
          "text": [
            "Resultado de la suma de vectores con torch.add es:  tensor([11, 11, 11, 11, 11])\n",
            "Resultado de la resta de vectores con torch.sub es:  tensor([-9, -7, -5, -3, -1])\n"
          ]
        }
      ]
    },
    {
      "cell_type": "code",
      "source": [
        "# Producto escalar torch dot\n",
        "vector1 = torch.tensor([1,2])\n",
        "vector2 = torch.tensor([10,20])\n",
        "print(\"Vector 1: \", vector1)\n",
        "print(\"Vector 2: \", vector2)\n",
        "productoEscalar = torch.dot(vector1, vector2)\n",
        "print(\"Resultado del producto escalar es: \", productoEscalar)"
      ],
      "metadata": {
        "colab": {
          "base_uri": "https://localhost:8080/"
        },
        "id": "xouGgrE6sdhC",
        "outputId": "3b474323-a205-4628-df0f-5127a5cfffd0"
      },
      "execution_count": null,
      "outputs": [
        {
          "output_type": "stream",
          "name": "stdout",
          "text": [
            "Vector 1:  tensor([1, 2])\n",
            "Vector 2:  tensor([10, 20])\n",
            "Resultado del producto escalar es:  tensor(50)\n"
          ]
        }
      ]
    },
    {
      "cell_type": "code",
      "source": [
        "# Matrices\n",
        "matriz = torch.tensor([[1,2],[3,4],[5,4]])\n",
        "print(matriz)\n",
        "matriz2 = torch.tensor([[10,20],[30,40],[50,40]])\n",
        "print(matriz2)\n",
        "sumMatriz = matriz + matriz2\n",
        "print(\"Resultado de la suma de matrices es: \", sumMatriz)\n",
        "# sum matriz torch\n",
        "sumMatrizTorch = torch.add(matriz, matriz2)\n",
        "print(\"Resultado de la suma de matrices con torch.add es: \", sumMatrizTorch)"
      ],
      "metadata": {
        "colab": {
          "base_uri": "https://localhost:8080/"
        },
        "id": "Iz18BZ7mtONT",
        "outputId": "088b6bc2-7b8b-41f1-9975-2a22e1929557"
      },
      "execution_count": null,
      "outputs": [
        {
          "output_type": "stream",
          "name": "stdout",
          "text": [
            "tensor([[1, 2],\n",
            "        [3, 4],\n",
            "        [5, 4]])\n",
            "tensor([[10, 20],\n",
            "        [30, 40],\n",
            "        [50, 40]])\n",
            "Resultado de la suma de matrices es:  tensor([[11, 22],\n",
            "        [33, 44],\n",
            "        [55, 44]])\n",
            "Resultado de la suma de matrices con torch.add es:  tensor([[11, 22],\n",
            "        [33, 44],\n",
            "        [55, 44]])\n"
          ]
        }
      ]
    },
    {
      "cell_type": "code",
      "source": [
        "# Resta Matrices\n",
        "subMatriz = matriz - matriz2\n",
        "print(\"Resultado de la resta de matrices es: \", subMatriz)\n",
        "# sub matriz torch\n",
        "subMatrizTorch = torch.sub(matriz, matriz2)\n",
        "print(\"Resultado de la resta de matrices con torch.sub es: \", subMatrizTorch)"
      ],
      "metadata": {
        "colab": {
          "base_uri": "https://localhost:8080/"
        },
        "id": "YmeXHS8WuPGj",
        "outputId": "d099bede-232c-4e9a-ae4f-2f45ba998f8d"
      },
      "execution_count": null,
      "outputs": [
        {
          "output_type": "stream",
          "name": "stdout",
          "text": [
            "Resultado de la resta de matrices es:  tensor([[ -9, -18],\n",
            "        [-27, -36],\n",
            "        [-45, -36]])\n",
            "Resultado de la resta de matrices con torch.sub es:  tensor([[ -9, -18],\n",
            "        [-27, -36],\n",
            "        [-45, -36]])\n"
          ]
        }
      ]
    },
    {
      "cell_type": "code",
      "source": [
        "# Multiplicacion de matrices\n",
        "multMatriz = matriz * matriz2\n",
        "print(\"Resultado de la multiplicacion de matrices es: \", multMatriz)\n",
        "# mult matriz torch\n",
        "multMatrizTorch = torch.mul(matriz, matriz2)\n",
        "print(\"Resultado de la multiplicacion de matrices con torch.mul es: \", multMatrizTorch)"
      ],
      "metadata": {
        "colab": {
          "base_uri": "https://localhost:8080/"
        },
        "id": "2KkIQT_tuZWA",
        "outputId": "0335243c-7d19-459d-a996-130526a0707a"
      },
      "execution_count": null,
      "outputs": [
        {
          "output_type": "stream",
          "name": "stdout",
          "text": [
            "Resultado de la multiplicacion de matrices es:  tensor([[ 10,  40],\n",
            "        [ 90, 160],\n",
            "        [250, 160]])\n",
            "Resultado de la multiplicacion de matrices con torch.mul es:  tensor([[ 10,  40],\n",
            "        [ 90, 160],\n",
            "        [250, 160]])\n"
          ]
        }
      ]
    },
    {
      "cell_type": "code",
      "source": [
        "# Division de matrices\n",
        "divMatriz = matriz / matriz2\n",
        "print(\"Resultado de la division de matrices es: \", divMatriz)\n",
        "# div matriz torch\n",
        "divMatrizTorch = torch.div(matriz, matriz2)\n",
        "print(\"Resultado de la division de matrices con torch.div es: \", divMatrizTorch)"
      ],
      "metadata": {
        "colab": {
          "base_uri": "https://localhost:8080/"
        },
        "id": "-oTsfIplxML5",
        "outputId": "ff36eb55-334a-49df-8de3-6e79eaab7a52"
      },
      "execution_count": null,
      "outputs": [
        {
          "output_type": "stream",
          "name": "stdout",
          "text": [
            "Resultado de la division de matrices es:  tensor([[0.1000, 0.1000],\n",
            "        [0.1000, 0.1000],\n",
            "        [0.1000, 0.1000]])\n",
            "Resultado de la division de matrices con torch.div es:  tensor([[0.1000, 0.1000],\n",
            "        [0.1000, 0.1000],\n",
            "        [0.1000, 0.1000]])\n"
          ]
        }
      ]
    }
  ]
}